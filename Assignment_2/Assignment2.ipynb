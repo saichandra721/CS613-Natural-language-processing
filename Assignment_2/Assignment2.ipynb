{
  "nbformat": 4,
  "nbformat_minor": 0,
  "metadata": {
    "colab": {
      "name": "Assignment2.ipynb",
      "provenance": []
    },
    "kernelspec": {
      "name": "python3",
      "display_name": "Python 3"
    }
  },
  "cells": [
    {
      "cell_type": "code",
      "metadata": {
        "id": "klANf7wSRfqV",
        "colab_type": "code",
        "colab": {
          "base_uri": "https://localhost:8080/",
          "height": 51
        },
        "outputId": "f21d88d6-1fb1-4dbd-80dc-cd6915972bc5"
      },
      "source": [
        "from nltk.tokenize import sent_tokenize, word_tokenize\n",
        "import random\n",
        "import nltk\n",
        "nltk.download('punkt')\n",
        "from operator import itemgetter\n",
        "import re\n",
        "import numpy as np\n",
        "import math\n",
        "import time"
      ],
      "execution_count": 1,
      "outputs": [
        {
          "output_type": "stream",
          "text": [
            "[nltk_data] Downloading package punkt to /root/nltk_data...\n",
            "[nltk_data]   Package punkt is already up-to-date!\n"
          ],
          "name": "stdout"
        }
      ]
    },
    {
      "cell_type": "code",
      "metadata": {
        "id": "3p6MkvZGSDa1",
        "colab_type": "code",
        "colab": {}
      },
      "source": [
        "def textproc(file):\n",
        "    f= open(file,'r')\n",
        "   \n",
        "    corpus = f.read().replace('\\n',' ')\n",
        "    corpus = corpus.lower() \n",
        "\n",
        "    token = sent_tokenize(corpus)\n",
        "    token = [re.sub(r'[^A-Za-z0-9]',\" \", i) for i in token]\n",
        "    return token\n",
        "\n",
        "    #sentence tokens are returned"
      ],
      "execution_count": 0,
      "outputs": []
    },
    {
      "cell_type": "code",
      "metadata": {
        "id": "vSbdyLQ_eAsZ",
        "colab_type": "code",
        "colab": {}
      },
      "source": [
        "def ngram(n,token):\n",
        "  ngram = []\n",
        "  for i in range(len(token)):\n",
        "    word = word_tokenize(token[i])\n",
        "    word = [\"<s>\"] + word \n",
        "    word.append(\"</s>\")\n",
        "    for j in range(len(word)-n + 1):\n",
        "      g = \"\"\n",
        "      for k in range(n):\n",
        "        g = word[-j - k - 1]+\" \"+ g\n",
        "      g = g[0:len(g)-1]\n",
        "      ngram.append(g)\n",
        "  freq =  nltk.FreqDist(ngram)\n",
        "  return freq\n"
      ],
      "execution_count": 0,
      "outputs": []
    },
    {
      "cell_type": "code",
      "metadata": {
        "id": "6WgJrF3lgewj",
        "colab_type": "code",
        "colab": {
          "base_uri": "https://localhost:8080/",
          "height": 34
        },
        "outputId": "40e23553-a3a3-4489-989f-b524d3b80dcb"
      },
      "source": [
        "token = textproc('speeches.txt')\n",
        "unigram = ngram(1,token)\n",
        "bigram = ngram(2,token)\n",
        "trigram = ngram(3,token)\n",
        "quadgram = ngram(4,token)"
      ],
      "execution_count": 11,
      "outputs": [
        {
          "output_type": "execute_result",
          "data": {
            "text/plain": [
              "17"
            ]
          },
          "metadata": {
            "tags": []
          },
          "execution_count": 11
        }
      ]
    },
    {
      "cell_type": "code",
      "metadata": {
        "id": "phoM1YKsgx_x",
        "colab_type": "code",
        "colab": {}
      },
      "source": [
        "\n",
        "def mle(arr,n):\n",
        "  d ={}\n",
        "  for i in arr:\n",
        "    s = i.split()\n",
        "    if(n==1):\n",
        "      d[i] = unigram[i]/len(unigram)\n",
        "    elif(n==2):\n",
        "      if(unigram[s[0]]):\n",
        "        d[i] = bigram[i]/unigram[s[0]]\n",
        "    elif(n==3):\n",
        "      if(bigram[' '.join(s[:2])]):\n",
        "        d[i] = trigram[i]/bigram[' '.join(s[:2])]\n",
        "    elif(n==4):\n",
        "      d[i] = quadgram[i]/trigram[' '.join(s[:3])]\n",
        "  return d\n",
        "t = mle(list(trigram.keys()),3)\n",
        "t"
      ],
      "execution_count": 0,
      "outputs": []
    },
    {
      "cell_type": "code",
      "metadata": {
        "id": "1rKmPaM29KC8",
        "colab_type": "code",
        "colab": {}
      },
      "source": [
        ""
      ],
      "execution_count": 0,
      "outputs": []
    },
    {
      "cell_type": "code",
      "metadata": {
        "id": "pUXarnif035o",
        "colab_type": "code",
        "colab": {}
      },
      "source": [
        ""
      ],
      "execution_count": 0,
      "outputs": []
    }
  ]
}