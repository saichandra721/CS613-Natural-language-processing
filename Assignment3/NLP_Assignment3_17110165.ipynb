{
  "nbformat": 4,
  "nbformat_minor": 0,
  "metadata": {
    "colab": {
      "name": "NLP_Assignment3_17110165.ipynb",
      "provenance": [],
      "collapsed_sections": []
    },
    "kernelspec": {
      "name": "python3",
      "display_name": "Python 3"
    },
    "accelerator": "GPU"
  },
  "cells": [
    {
      "cell_type": "code",
      "metadata": {
        "id": "uivGg-gvpIch",
        "colab_type": "code",
        "outputId": "202a6c07-9f81-46dc-e398-34c5536e805b",
        "colab": {
          "base_uri": "https://localhost:8080/",
          "height": 81
        }
      },
      "source": [
        "import pandas as pd\n",
        "import numpy as np\n",
        "import re\n",
        "import nltk\n",
        "from nltk.corpus import stopwords\n",
        "\n",
        "from numpy import array\n",
        "import keras\n",
        "from keras.preprocessing.text import one_hot\n",
        "from keras.preprocessing.sequence import pad_sequences\n",
        "from keras.models import Sequential\n",
        "from keras.layers.recurrent import LSTM\n",
        "from keras.layers import Conv1D,GlobalMaxPooling1D,MaxPooling1D\n",
        "from keras.layers.core import Activation, Dropout, Dense\n",
        "from keras.layers import Flatten\n",
        "from keras.layers.embeddings import Embedding\n",
        "from sklearn.model_selection import train_test_split\n",
        "from keras.preprocessing.text import Tokenizer\n",
        "\n",
        "\n",
        "from numpy import array\n",
        "from numpy import asarray\n",
        "from numpy import zeros"
      ],
      "execution_count": 1,
      "outputs": [
        {
          "output_type": "stream",
          "text": [
            "Using TensorFlow backend.\n"
          ],
          "name": "stderr"
        },
        {
          "output_type": "display_data",
          "data": {
            "text/html": [
              "<p style=\"color: red;\">\n",
              "The default version of TensorFlow in Colab will soon switch to TensorFlow 2.x.<br>\n",
              "We recommend you <a href=\"https://www.tensorflow.org/guide/migrate\" target=\"_blank\">upgrade</a> now \n",
              "or ensure your notebook will continue to use TensorFlow 1.x via the <code>%tensorflow_version 1.x</code> magic:\n",
              "<a href=\"https://colab.research.google.com/notebooks/tensorflow_version.ipynb\" target=\"_blank\">more info</a>.</p>\n"
            ],
            "text/plain": [
              "<IPython.core.display.HTML object>"
            ]
          },
          "metadata": {
            "tags": []
          }
        }
      ]
    },
    {
      "cell_type": "code",
      "metadata": {
        "id": "3XgGeJpwCcIA",
        "colab_type": "code",
        "outputId": "f76ea48f-8f47-4ec4-e920-041a35a1cca9",
        "colab": {
          "base_uri": "https://localhost:8080/",
          "height": 34
        }
      },
      "source": [
        "from google.colab import drive\n",
        "drive.mount('/content/drive')"
      ],
      "execution_count": 2,
      "outputs": [
        {
          "output_type": "stream",
          "text": [
            "Drive already mounted at /content/drive; to attempt to forcibly remount, call drive.mount(\"/content/drive\", force_remount=True).\n"
          ],
          "name": "stdout"
        }
      ]
    },
    {
      "cell_type": "code",
      "metadata": {
        "id": "DEVLyDjzCpYv",
        "colab_type": "code",
        "outputId": "6b2d28db-d4d0-498a-e1a5-7bb969c2f34f",
        "colab": {
          "base_uri": "https://localhost:8080/",
          "height": 175
        }
      },
      "source": [
        "%cd drive/\n",
        "%cd 'My Drive'\n",
        "%cd Colab\\ Notebooks\n",
        "%cd NLP_Assignment/\n",
        "!ls"
      ],
      "execution_count": 3,
      "outputs": [
        {
          "output_type": "stream",
          "text": [
            "/content/drive\n",
            "/content/drive/My Drive\n",
            "/content/drive/My Drive/Colab Notebooks\n",
            "/content/drive/My Drive/Colab Notebooks/NLP_Assignment\n",
            "best_validation_weights.h5\t      movie_data.csv\n",
            "glove.6B.100d.txt\t\t      test.txt\n",
            "hin_eng.json\t\t\t      train.txt\n",
            "hin_eng_mixed_sentiment_word2vec.txt  words_not_found.txt\n",
            "model.png\n"
          ],
          "name": "stdout"
        }
      ]
    },
    {
      "cell_type": "markdown",
      "metadata": {
        "id": "6FydHSVRP2vf",
        "colab_type": "text"
      },
      "source": [
        "#Pre-processing"
      ]
    },
    {
      "cell_type": "code",
      "metadata": {
        "id": "mgz4Xdo5FuD5",
        "colab_type": "code",
        "colab": {
          "base_uri": "https://localhost:8080/",
          "height": 34
        },
        "outputId": "ebcbd66f-6246-4e2a-c8ec-4f61433c723c"
      },
      "source": [
        "fs_train = open('train.txt','r')\n",
        "arr_train = fs_train.readlines()\n",
        "sent_words_train = []\n",
        "temp_train = []\n",
        "for i in range(len(arr_train)-1):\n",
        "  if('meta' not in arr_train[i+1]):\n",
        "    temp_train.append(arr_train[i])\n",
        "  else:\n",
        "    sent_words_train.append(temp_train)\n",
        "    temp_train = []\n",
        "\n",
        "y_temp = []\n",
        "x_temp = []\n",
        "\n",
        "for i in sent_words_train:\n",
        "  \n",
        "  y_temp.append(i[0])\n",
        "  x_temp.append(i[1:])\n",
        "\n",
        "x_temp2 = []\n",
        "for i in x_temp:\n",
        "  tmp = []\n",
        "  for j in i:\n",
        "    s = j.split('\\t')\n",
        "    tmp.append(s[0])\n",
        "  x_temp2.append(' '.join(tmp))\n",
        "\n",
        "# x_temp2\n",
        "y_temp2 = []\n",
        "for i in y_temp:\n",
        "  s = i.split('\\t')\n",
        "  if(s[-1][:-1]=='negative'):\n",
        "    y_temp2.append(0)\n",
        "  elif(s[-1][:-1]=='neutral'):\n",
        "    y_temp2.append(1)\n",
        "  else:\n",
        "    y_temp2.append(2)\n",
        "\n",
        "# y_temp2\n",
        "\n",
        "x_train = []\n",
        "for i in x_temp2:\n",
        "  m = re.sub(r'@','',i)\n",
        "  x_train.append(re.sub(r'https.*$','',m))\n",
        "\n",
        "# y_temp2\n",
        "\n",
        "y_train = keras.utils.to_categorical(y_temp2, num_classes=None, dtype='float32')\n",
        "len(x_train)\n",
        "\n",
        "x_tt = []\n",
        "for i in x_train:\n",
        "  x_tt.append(i.split())\n",
        "\n",
        "fs_test = open('test.txt','r')\n",
        "arr_test = fs_test.readlines()\n",
        "sent_words_test = []\n",
        "temp_test = []\n",
        "for i in range(len(arr_test)-1):\n",
        "  if('meta' not in arr_test[i+1]):\n",
        "    temp_test.append(arr_test[i])\n",
        "  else:\n",
        "    sent_words_test.append(temp_test)\n",
        "    temp_test = []\n",
        "\n",
        "y_temp = []\n",
        "x_temp = []\n",
        "\n",
        "for i in sent_words_test:\n",
        "  \n",
        "  y_temp.append(i[0])\n",
        "  x_temp.append(i[1:])\n",
        "\n",
        "x_temp2 = []\n",
        "for i in x_temp:\n",
        "  tmp = []\n",
        "  for j in i:\n",
        "    s = j.split('\\t')\n",
        "    tmp.append(s[0])\n",
        "  x_temp2.append(' '.join(tmp))\n",
        "\n",
        "# x_temp2\n",
        "y_temp2 = []\n",
        "for i in y_temp:\n",
        "  s = i.split('\\t')\n",
        "  if(s[-1][:-1]=='negative'):\n",
        "    y_temp2.append(0)\n",
        "  elif(s[-1][:-1]=='neutral'):\n",
        "    y_temp2.append(1)\n",
        "  else:\n",
        "    y_temp2.append(2)\n",
        "\n",
        "# y_temp2\n",
        "\n",
        "x_test = []\n",
        "for i in x_temp2:\n",
        "  m = re.sub(r'@','',i)\n",
        "  x_test.append(re.sub(r'https.*$','',m))\n",
        "\n",
        "# y_temp2\n",
        "\n",
        "y_test = keras.utils.to_categorical(y_temp2, num_classes=None, dtype='float32')\n",
        "\n",
        "len(x_test)\n",
        " "
      ],
      "execution_count": 4,
      "outputs": [
        {
          "output_type": "execute_result",
          "data": {
            "text/plain": [
              "1869"
            ]
          },
          "metadata": {
            "tags": []
          },
          "execution_count": 4
        }
      ]
    },
    {
      "cell_type": "code",
      "metadata": {
        "id": "FTtOGNbx4aga",
        "colab_type": "code",
        "outputId": "1f23fc57-5816-4162-ef68-7ff20fda60ca",
        "colab": {
          "base_uri": "https://localhost:8080/",
          "height": 34
        }
      },
      "source": [
        "import gensim \n",
        "EMBEDDING_DIM = 100\n",
        "# train word2vec model\n",
        "model = gensim.models.Word2Vec(sentences=x_tt, size=EMBEDDING_DIM, window=5, workers=4, min_count=1)\n",
        "# vocab size\n",
        "words = list(model.wv.vocab)\n",
        "print('Vocabulary size: %d' % len(words))"
      ],
      "execution_count": 5,
      "outputs": [
        {
          "output_type": "stream",
          "text": [
            "Vocabulary size: 53353\n"
          ],
          "name": "stdout"
        }
      ]
    },
    {
      "cell_type": "code",
      "metadata": {
        "id": "PgYFi--O4xbE",
        "colab_type": "code",
        "outputId": "3c1d0e32-6095-41a3-87a7-1c66506d8979",
        "colab": {
          "base_uri": "https://localhost:8080/",
          "height": 72
        }
      },
      "source": [
        "# save model in ASCII (word2vec) format\n",
        "filename = 'hin_eng_mixed_sentiment_word2vec.txt'\n",
        "model.wv.save_word2vec_format(filename, binary=False)"
      ],
      "execution_count": 6,
      "outputs": [
        {
          "output_type": "stream",
          "text": [
            "/usr/local/lib/python3.6/dist-packages/smart_open/smart_open_lib.py:402: UserWarning: This function is deprecated, use smart_open.open instead. See the migration notes for details: https://github.com/RaRe-Technologies/smart_open/blob/master/README.rst#migrating-to-the-new-open-function\n",
            "  'See the migration notes for details: %s' % _MIGRATION_NOTES_URL\n"
          ],
          "name": "stderr"
        }
      ]
    },
    {
      "cell_type": "code",
      "metadata": {
        "id": "9PKEXWxqDc38",
        "colab_type": "code",
        "colab": {}
      },
      "source": [
        "tokenizer = Tokenizer(num_words=5000)\n",
        "tokenizer.fit_on_texts(x_train+x_test)\n",
        "\n",
        "x_train = tokenizer.texts_to_sequences(x_train)\n",
        "x_test = tokenizer.texts_to_sequences(x_test)\n",
        "# x_train"
      ],
      "execution_count": 0,
      "outputs": []
    },
    {
      "cell_type": "code",
      "metadata": {
        "id": "HlfgencJKazs",
        "colab_type": "code",
        "outputId": "fd90138c-674e-462e-e904-8b3739874614",
        "colab": {
          "base_uri": "https://localhost:8080/",
          "height": 34
        }
      },
      "source": [
        "vocab_size_train = len(tokenizer.word_index) + 1\n",
        "maxlen = 100\n",
        "x_train = pad_sequences(x_train, padding='post', maxlen=maxlen)\n",
        "vocab_size_train"
      ],
      "execution_count": 8,
      "outputs": [
        {
          "output_type": "execute_result",
          "data": {
            "text/plain": [
              "47534"
            ]
          },
          "metadata": {
            "tags": []
          },
          "execution_count": 8
        }
      ]
    },
    {
      "cell_type": "code",
      "metadata": {
        "id": "iXVB7mn0N4Pr",
        "colab_type": "code",
        "colab": {}
      },
      "source": [
        "maxlen = 100\n",
        "x_test = pad_sequences(x_test, padding='post', maxlen=maxlen)"
      ],
      "execution_count": 0,
      "outputs": []
    },
    {
      "cell_type": "markdown",
      "metadata": {
        "id": "dvvi1G1EQVyV",
        "colab_type": "text"
      },
      "source": [
        "#GETTING EMBEDDING DICTIONARY"
      ]
    },
    {
      "cell_type": "code",
      "metadata": {
        "id": "qoTntIpM42dh",
        "colab_type": "code",
        "colab": {}
      },
      "source": [
        "embeddings_dictionary_train = {}\n",
        "f = open('hin_eng_mixed_sentiment_word2vec.txt',  encoding = \"utf-8\")\n",
        "for line in f:\n",
        "    values = line.split()\n",
        "    word = values[0]\n",
        "    coefs = np.asarray(values[1:])\n",
        "    embeddings_dictionary_train[word] = coefs\n",
        "f.close()"
      ],
      "execution_count": 0,
      "outputs": []
    },
    {
      "cell_type": "code",
      "metadata": {
        "id": "eJd5lI8_RJpl",
        "colab_type": "code",
        "outputId": "b9143a49-e32a-4476-e246-4719e99ad6e4",
        "colab": {
          "base_uri": "https://localhost:8080/",
          "height": 34
        }
      },
      "source": [
        "count = 0\n",
        "words_not_found = []\n",
        "embedding_matrix_train = zeros((vocab_size_train, 100))\n",
        "for word, index in tokenizer.word_index.items():\n",
        "    embedding_vector = embeddings_dictionary_train.get(word)\n",
        "    if embedding_vector is not None:\n",
        "        embedding_matrix_train[index] = embedding_vector\n",
        "    else:\n",
        "      count+=1\n",
        "      words_not_found.append(word)\n",
        "\n",
        "count\n",
        "# words_not_found"
      ],
      "execution_count": 11,
      "outputs": [
        {
          "output_type": "execute_result",
          "data": {
            "text/plain": [
              "15695"
            ]
          },
          "metadata": {
            "tags": []
          },
          "execution_count": 11
        }
      ]
    },
    {
      "cell_type": "markdown",
      "metadata": {
        "id": "4gMl55mfQcFM",
        "colab_type": "text"
      },
      "source": [
        "#Recall,F1,Precision"
      ]
    },
    {
      "cell_type": "code",
      "metadata": {
        "id": "tq0wzs_tBdQq",
        "colab_type": "code",
        "colab": {}
      },
      "source": [
        "from keras import backend as K\n",
        "\n",
        "def recall_m(y_true, y_pred):\n",
        "        true_positives = K.sum(K.round(K.clip(y_true * y_pred, 0, 1)))\n",
        "        possible_positives = K.sum(K.round(K.clip(y_true, 0, 1)))\n",
        "        recall = true_positives / (possible_positives + K.epsilon())\n",
        "        return recall\n",
        "\n",
        "def precision_m(y_true, y_pred):\n",
        "        true_positives = K.sum(K.round(K.clip(y_true * y_pred, 0, 1)))\n",
        "        predicted_positives = K.sum(K.round(K.clip(y_pred, 0, 1)))\n",
        "        precision = true_positives / (predicted_positives + K.epsilon())\n",
        "        return precision\n",
        "\n",
        "def f1_m(y_true, y_pred):\n",
        "    precision = precision_m(y_true, y_pred)\n",
        "    recall = recall_m(y_true, y_pred)\n",
        "    return 2*((precision*recall)/(precision+recall+K.epsilon()))"
      ],
      "execution_count": 0,
      "outputs": []
    },
    {
      "cell_type": "markdown",
      "metadata": {
        "id": "JNrR__ptQqPt",
        "colab_type": "text"
      },
      "source": [
        "#MODEL"
      ]
    },
    {
      "cell_type": "code",
      "metadata": {
        "id": "Zsxo5XoYK3pJ",
        "colab_type": "code",
        "outputId": "1f79dc72-97a2-437a-e7b6-085cddad5f11",
        "colab": {
          "base_uri": "https://localhost:8080/",
          "height": 512
        }
      },
      "source": [
        "model = Sequential()\n",
        "model.add(Embedding(vocab_size_train, 100, weights=[embedding_matrix_train], input_length=maxlen))\n",
        "model.add(Conv1D(128, 8, activation='relu',padding='same'))\n",
        "model.add(Dropout(0.3))\n",
        "model.add(Conv1D(128, 16, activation='relu',padding='same'))\n",
        "model.add(Dropout(0.3))\n",
        "model.add(GlobalMaxPooling1D())\n",
        "model.add(Dense(128, activation='relu'))\n",
        "model.add(Dropout(0.3))\n",
        "model.add(Dense(3, activation='softmax'))\n",
        "# loss1 = 'binary_crossentropy'\n",
        "model.compile(optimizer='adam', loss='categorical_crossentropy', metrics=['acc',f1_m,precision_m, recall_m])"
      ],
      "execution_count": 13,
      "outputs": [
        {
          "output_type": "stream",
          "text": [
            "WARNING:tensorflow:From /usr/local/lib/python3.6/dist-packages/keras/backend/tensorflow_backend.py:66: The name tf.get_default_graph is deprecated. Please use tf.compat.v1.get_default_graph instead.\n",
            "\n",
            "WARNING:tensorflow:From /usr/local/lib/python3.6/dist-packages/keras/backend/tensorflow_backend.py:541: The name tf.placeholder is deprecated. Please use tf.compat.v1.placeholder instead.\n",
            "\n",
            "WARNING:tensorflow:From /usr/local/lib/python3.6/dist-packages/keras/backend/tensorflow_backend.py:4432: The name tf.random_uniform is deprecated. Please use tf.random.uniform instead.\n",
            "\n",
            "WARNING:tensorflow:From /usr/local/lib/python3.6/dist-packages/keras/backend/tensorflow_backend.py:190: The name tf.get_default_session is deprecated. Please use tf.compat.v1.get_default_session instead.\n",
            "\n",
            "WARNING:tensorflow:From /usr/local/lib/python3.6/dist-packages/keras/backend/tensorflow_backend.py:197: The name tf.ConfigProto is deprecated. Please use tf.compat.v1.ConfigProto instead.\n",
            "\n",
            "WARNING:tensorflow:From /usr/local/lib/python3.6/dist-packages/keras/backend/tensorflow_backend.py:203: The name tf.Session is deprecated. Please use tf.compat.v1.Session instead.\n",
            "\n",
            "WARNING:tensorflow:From /usr/local/lib/python3.6/dist-packages/keras/backend/tensorflow_backend.py:207: The name tf.global_variables is deprecated. Please use tf.compat.v1.global_variables instead.\n",
            "\n",
            "WARNING:tensorflow:From /usr/local/lib/python3.6/dist-packages/keras/backend/tensorflow_backend.py:216: The name tf.is_variable_initialized is deprecated. Please use tf.compat.v1.is_variable_initialized instead.\n",
            "\n",
            "WARNING:tensorflow:From /usr/local/lib/python3.6/dist-packages/keras/backend/tensorflow_backend.py:223: The name tf.variables_initializer is deprecated. Please use tf.compat.v1.variables_initializer instead.\n",
            "\n",
            "WARNING:tensorflow:From /usr/local/lib/python3.6/dist-packages/keras/backend/tensorflow_backend.py:148: The name tf.placeholder_with_default is deprecated. Please use tf.compat.v1.placeholder_with_default instead.\n",
            "\n",
            "WARNING:tensorflow:From /usr/local/lib/python3.6/dist-packages/keras/backend/tensorflow_backend.py:3733: calling dropout (from tensorflow.python.ops.nn_ops) with keep_prob is deprecated and will be removed in a future version.\n",
            "Instructions for updating:\n",
            "Please use `rate` instead of `keep_prob`. Rate should be set to `rate = 1 - keep_prob`.\n",
            "WARNING:tensorflow:From /usr/local/lib/python3.6/dist-packages/keras/optimizers.py:793: The name tf.train.Optimizer is deprecated. Please use tf.compat.v1.train.Optimizer instead.\n",
            "\n",
            "WARNING:tensorflow:From /usr/local/lib/python3.6/dist-packages/keras/backend/tensorflow_backend.py:3576: The name tf.log is deprecated. Please use tf.math.log instead.\n",
            "\n"
          ],
          "name": "stdout"
        }
      ]
    },
    {
      "cell_type": "markdown",
      "metadata": {
        "id": "DjnS0zdNQvIe",
        "colab_type": "text"
      },
      "source": [
        "#Model training"
      ]
    },
    {
      "cell_type": "code",
      "metadata": {
        "id": "dblhOK0cLs_7",
        "colab_type": "code",
        "outputId": "2020e372-a23b-4731-e82f-a7ea14b28233",
        "colab": {
          "base_uri": "https://localhost:8080/",
          "height": 618
        }
      },
      "source": [
        "model.fit(x_train, y_train, batch_size=128, epochs=12, verbose=1, validation_split=0.2)"
      ],
      "execution_count": 14,
      "outputs": [
        {
          "output_type": "stream",
          "text": [
            "WARNING:tensorflow:From /usr/local/lib/python3.6/dist-packages/tensorflow_core/python/ops/math_grad.py:1424: where (from tensorflow.python.ops.array_ops) is deprecated and will be removed in a future version.\n",
            "Instructions for updating:\n",
            "Use tf.where in 2.0, which has the same broadcast rule as np.where\n",
            "WARNING:tensorflow:From /usr/local/lib/python3.6/dist-packages/keras/backend/tensorflow_backend.py:1033: The name tf.assign_add is deprecated. Please use tf.compat.v1.assign_add instead.\n",
            "\n",
            "WARNING:tensorflow:From /usr/local/lib/python3.6/dist-packages/keras/backend/tensorflow_backend.py:1020: The name tf.assign is deprecated. Please use tf.compat.v1.assign instead.\n",
            "\n",
            "Train on 12105 samples, validate on 3027 samples\n",
            "Epoch 1/12\n",
            "12105/12105 [==============================] - 4s 322us/step - loss: 1.0392 - acc: 0.4657 - f1_m: 0.2659 - precision_m: 0.5486 - recall_m: 0.1832 - val_loss: 1.0046 - val_acc: 0.5061 - val_f1_m: 0.0276 - val_precision_m: 0.6277 - val_recall_m: 0.0142\n",
            "Epoch 2/12\n",
            "12105/12105 [==============================] - 1s 95us/step - loss: 0.9436 - acc: 0.5302 - f1_m: 0.3803 - precision_m: 0.6051 - recall_m: 0.2840 - val_loss: 0.9470 - val_acc: 0.5388 - val_f1_m: 0.2206 - val_precision_m: 0.6660 - val_recall_m: 0.1331\n",
            "Epoch 3/12\n",
            "12105/12105 [==============================] - 1s 95us/step - loss: 0.8882 - acc: 0.5695 - f1_m: 0.4676 - precision_m: 0.6403 - recall_m: 0.3712 - val_loss: 0.9178 - val_acc: 0.5600 - val_f1_m: 0.3588 - val_precision_m: 0.6740 - val_recall_m: 0.2464\n",
            "Epoch 4/12\n",
            "12105/12105 [==============================] - 1s 96us/step - loss: 0.8203 - acc: 0.6144 - f1_m: 0.5497 - precision_m: 0.6680 - recall_m: 0.4690 - val_loss: 0.8863 - val_acc: 0.5725 - val_f1_m: 0.4603 - val_precision_m: 0.6405 - val_recall_m: 0.3598\n",
            "Epoch 5/12\n",
            "12105/12105 [==============================] - 1s 96us/step - loss: 0.7674 - acc: 0.6480 - f1_m: 0.6065 - precision_m: 0.6848 - recall_m: 0.5465 - val_loss: 0.8828 - val_acc: 0.5847 - val_f1_m: 0.4634 - val_precision_m: 0.6606 - val_recall_m: 0.3574\n",
            "Epoch 6/12\n",
            "12105/12105 [==============================] - 1s 95us/step - loss: 0.7361 - acc: 0.6644 - f1_m: 0.6335 - precision_m: 0.6946 - recall_m: 0.5836 - val_loss: 0.8914 - val_acc: 0.5679 - val_f1_m: 0.5170 - val_precision_m: 0.6138 - val_recall_m: 0.4470\n",
            "Epoch 7/12\n",
            "12105/12105 [==============================] - 1s 95us/step - loss: 0.6896 - acc: 0.6986 - f1_m: 0.6874 - precision_m: 0.7203 - recall_m: 0.6580 - val_loss: 0.9019 - val_acc: 0.5699 - val_f1_m: 0.5208 - val_precision_m: 0.5985 - val_recall_m: 0.4612\n",
            "Epoch 8/12\n",
            "12105/12105 [==============================] - 1s 96us/step - loss: 0.6571 - acc: 0.7156 - f1_m: 0.7055 - precision_m: 0.7297 - recall_m: 0.6831 - val_loss: 0.9291 - val_acc: 0.5576 - val_f1_m: 0.5185 - val_precision_m: 0.5738 - val_recall_m: 0.4734\n",
            "Epoch 9/12\n",
            "12105/12105 [==============================] - 1s 96us/step - loss: 0.6373 - acc: 0.7287 - f1_m: 0.7228 - precision_m: 0.7426 - recall_m: 0.7043 - val_loss: 0.9398 - val_acc: 0.5576 - val_f1_m: 0.5361 - val_precision_m: 0.5771 - val_recall_m: 0.5008\n",
            "Epoch 10/12\n",
            "12105/12105 [==============================] - 1s 96us/step - loss: 0.6065 - acc: 0.7440 - f1_m: 0.7391 - precision_m: 0.7558 - recall_m: 0.7233 - val_loss: 0.9404 - val_acc: 0.5600 - val_f1_m: 0.5411 - val_precision_m: 0.5769 - val_recall_m: 0.5097\n",
            "Epoch 11/12\n",
            "12105/12105 [==============================] - 1s 95us/step - loss: 0.5909 - acc: 0.7546 - f1_m: 0.7503 - precision_m: 0.7642 - recall_m: 0.7371 - val_loss: 0.9877 - val_acc: 0.5494 - val_f1_m: 0.5318 - val_precision_m: 0.5621 - val_recall_m: 0.5048\n",
            "Epoch 12/12\n",
            "12105/12105 [==============================] - 1s 95us/step - loss: 0.5688 - acc: 0.7637 - f1_m: 0.7608 - precision_m: 0.7729 - recall_m: 0.7492 - val_loss: 0.9821 - val_acc: 0.5534 - val_f1_m: 0.5398 - val_precision_m: 0.5706 - val_recall_m: 0.5124\n"
          ],
          "name": "stdout"
        },
        {
          "output_type": "execute_result",
          "data": {
            "text/plain": [
              "<keras.callbacks.History at 0x7f75630515c0>"
            ]
          },
          "metadata": {
            "tags": []
          },
          "execution_count": 14
        }
      ]
    },
    {
      "cell_type": "markdown",
      "metadata": {
        "id": "Y3W0UehxQ1Wd",
        "colab_type": "text"
      },
      "source": [
        "#Accuracy"
      ]
    },
    {
      "cell_type": "code",
      "metadata": {
        "id": "LEOgLTU6PKJD",
        "colab_type": "code",
        "outputId": "e865302f-57bc-4b92-dd5e-5fd79b938c7b",
        "colab": {
          "base_uri": "https://localhost:8080/",
          "height": 105
        }
      },
      "source": [
        "acc = model.evaluate(x_test, y_test, verbose=1)\n",
        "print(\"Accuracy =\",acc[1])\n",
        "print(\"F1_score =\",acc[2])\n",
        "print(\"Precision =\",acc[3])\n",
        "print(\"Recall =\",acc[4])"
      ],
      "execution_count": 15,
      "outputs": [
        {
          "output_type": "stream",
          "text": [
            "1869/1869 [==============================] - 0s 114us/step\n",
            "Accuracy = 0.5179240237333482\n",
            "F1_score = 0.5053663498708563\n",
            "Precision = 0.5307031879774576\n",
            "Recall = 0.4831460676070775\n"
          ],
          "name": "stdout"
        }
      ]
    },
    {
      "cell_type": "code",
      "metadata": {
        "id": "QZCVnH-nXeGk",
        "colab_type": "code",
        "outputId": "5d707432-f9d7-485c-bc1c-9edee504942c",
        "colab": {
          "base_uri": "https://localhost:8080/",
          "height": 953
        }
      },
      "source": [
        "from keras.utils import plot_model\n",
        "plot_model(model, to_file='model.png')"
      ],
      "execution_count": 16,
      "outputs": [
        {
          "output_type": "execute_result",
          "data": {
            "image/png": "[encoded data removed]",
            "text/plain": [
              "<IPython.core.display.Image object>"
            ]
          },
          "metadata": {
            "tags": []
          },
          "execution_count": 16
        }
      ]
    }
  ]
}