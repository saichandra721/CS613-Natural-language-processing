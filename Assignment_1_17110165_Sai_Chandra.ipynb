{
  "nbformat": 4,
  "nbformat_minor": 0,
  "metadata": {
    "colab": {
      "name": "Assignment_1_17110165_Sai_Chandra.ipynb",
      "version": "0.3.2",
      "provenance": []
    },
    "kernelspec": {
      "name": "python3",
      "display_name": "Python 3"
    }
  },
  "cells": [
    {
      "cell_type": "markdown",
      "metadata": {
        "id": "b-bIkcZY8bxH",
        "colab_type": "text"
      },
      "source": [
        "#TTR"
      ]
    },
    {
      "cell_type": "code",
      "metadata": {
        "id": "RtNutdlS3MGl",
        "colab_type": "code",
        "outputId": "f81f1d5a-0b1f-43d2-b4a8-89823e44437f",
        "colab": {
          "base_uri": "https://localhost:8080/",
          "height": 51
        }
      },
      "source": [
        "import nltk\n",
        "nltk.download('punkt')\n",
        "import numpy as np\n",
        "import pandas as pd\n",
        "import matplotlib.pyplot as plt"
      ],
      "execution_count": 122,
      "outputs": [
        {
          "output_type": "stream",
          "text": [
            "[nltk_data] Downloading package punkt to /root/nltk_data...\n",
            "[nltk_data]   Package punkt is already up-to-date!\n"
          ],
          "name": "stdout"
        }
      ]
    },
    {
      "cell_type": "code",
      "metadata": {
        "id": "wtyuHutMtzUT",
        "colab_type": "code",
        "outputId": "21fc1630-035a-4b56-c69b-11e41c65603a",
        "colab": {
          "base_uri": "https://localhost:8080/",
          "height": 34
        }
      },
      "source": [
        "import io\n",
        "url = 'https://raw.githubusercontent.com/saichandra721/CS613-Natural-language-processing/master/tweets-dataset.csv'\n",
        "tweet= pd.read_csv(url)\n",
        "tweet1 = (' '.join(tweet['Sentence'])).lower()\n",
        "from nltk.tokenize import TweetTokenizer as tt\n",
        "twt = tt()\n",
        "token = twt.tokenize(tweet1)\n",
        "types = set(token)\n",
        "TTR = len(types)/len(token)\n",
        "#types to token ratio\n",
        "print(TTR)"
      ],
      "execution_count": 123,
      "outputs": [
        {
          "output_type": "stream",
          "text": [
            "0.114425939772959\n"
          ],
          "name": "stdout"
        }
      ]
    },
    {
      "cell_type": "markdown",
      "metadata": {
        "id": "8x5kJfatUdRY",
        "colab_type": "text"
      },
      "source": [
        "# Zipf's law for length"
      ]
    },
    {
      "cell_type": "code",
      "metadata": {
        "id": "z-s9_sJ_WdAr",
        "colab_type": "code",
        "outputId": "23f7b71c-89fd-4de4-b8b7-f5181c48e803",
        "colab": {
          "base_uri": "https://localhost:8080/",
          "height": 283
        }
      },
      "source": [
        "d={}\n",
        "for i in (token):\n",
        "  if len(i) in d:\n",
        "    d[len(i)] = d[len(i)] + 1\n",
        "  else:\n",
        "    d[len(i)] = 1\n",
        "l = [0,]*len(d)\n",
        "o = 0\n",
        "for j in d:\n",
        "  l[o] = d[j]\n",
        "  o = o + 1\n",
        "l.sort(reverse = True)\n",
        "plt.xlabel('words with constant length')\n",
        "plt.ylabel('frequency')\n",
        "plt.plot(l,[i for i in range(1,len(l)+1)])\n",
        "plt.show()"
      ],
      "execution_count": 124,
      "outputs": [
        {
          "output_type": "display_data",
          "data": {
            "image/png": "[encoded data removed]",
            "text/plain": [
              "<Figure size 432x288 with 1 Axes>"
            ]
          },
          "metadata": {
            "tags": []
          }
        }
      ]
    },
    {
      "cell_type": "markdown",
      "metadata": {
        "id": "up3rlZf_GKIW",
        "colab_type": "text"
      },
      "source": [
        "#Zipf's law for meanings"
      ]
    },
    {
      "cell_type": "code",
      "metadata": {
        "id": "O4TttCMvIh4Q",
        "colab_type": "code",
        "outputId": "b1562530-a5b5-4a9f-f33e-655302ef38fc",
        "colab": {
          "base_uri": "https://localhost:8080/",
          "height": 68
        }
      },
      "source": [
        "nltk.download('wordnet')"
      ],
      "execution_count": 125,
      "outputs": [
        {
          "output_type": "stream",
          "text": [
            "[nltk_data] Downloading package wordnet to /root/nltk_data...\n",
            "[nltk_data]   Package wordnet is already up-to-date!\n"
          ],
          "name": "stdout"
        },
        {
          "output_type": "execute_result",
          "data": {
            "text/plain": [
              "True"
            ]
          },
          "metadata": {
            "tags": []
          },
          "execution_count": 125
        }
      ]
    },
    {
      "cell_type": "code",
      "metadata": {
        "id": "KnnMMXMXGhy8",
        "colab_type": "code",
        "outputId": "7a6f5387-d85c-49b7-dd89-1d7308646f09",
        "colab": {
          "base_uri": "https://localhost:8080/",
          "height": 258
        }
      },
      "source": [
        "from nltk.corpus import wordnet as wn\n",
        "print(wn.synsets('broke'))\n",
        "print(wn.synsets('supplied'))\n",
        "print(wn.synsets('changed'))\n",
        "print(wn.synsets('desire'))\n",
        "print(wn.synsets('learn'))\n",
        "print(wn.synsets('mind'))\n",
        "print(wn.synsets('honest'))\n",
        "print(wn.synsets('legal'))\n",
        "print(wn.synsets('love'))\n",
        "print(wn.synsets('chair'))\n",
        "print(wn.synsets('old'))\n",
        "print(wn.synsets('know'))\n",
        "print(wn.synsets('wish'))\n",
        "#this line will give possible meanings of the word"
      ],
      "execution_count": 126,
      "outputs": [
        {
          "output_type": "stream",
          "text": [
            "[Synset('interrupt.v.04'), Synset('break.v.02'), Synset('break.v.03'), Synset('break.v.04'), Synset('break.v.05'), Synset('transgress.v.01'), Synset('break.v.07'), Synset('break.v.08'), Synset('break.v.09'), Synset('break.v.10'), Synset('break_in.v.01'), Synset('break_in.v.06'), Synset('violate.v.01'), Synset('better.v.01'), Synset('unwrap.v.02'), Synset('break.v.16'), Synset('fail.v.04'), Synset('break.v.18'), Synset('break.v.19'), Synset('break.v.20'), Synset('dampen.v.07'), Synset('break.v.22'), Synset('break.v.23'), Synset('break.v.24'), Synset('break.v.25'), Synset('break.v.26'), Synset('break.v.27'), Synset('break.v.28'), Synset('break.v.29'), Synset('break.v.30'), Synset('separate.v.08'), Synset('demote.v.01'), Synset('bankrupt.v.01'), Synset('break.v.34'), Synset('break.v.35'), Synset('collapse.v.01'), Synset('break_dance.v.01'), Synset('break.v.38'), Synset('break.v.39'), Synset('break.v.40'), Synset('break.v.41'), Synset('break.v.42'), Synset('break.v.43'), Synset('break.v.44'), Synset('break.v.45'), Synset('break.v.46'), Synset('pause.v.02'), Synset('break.v.48'), Synset('break.v.49'), Synset('break.v.50'), Synset('break.v.51'), Synset('break.v.52'), Synset('break.v.53'), Synset('crack.v.01'), Synset('break.v.55'), Synset('break.v.56'), Synset('fracture.v.06'), Synset('break.v.58'), Synset('break.v.59'), Synset('broke.s.01')]\n",
            "[Synset('supply.v.01'), Synset('issue.v.02'), Synset('provide.v.02'), Synset('add.v.02')]\n",
            "[Synset('change.v.01'), Synset('change.v.02'), Synset('change.v.03'), Synset('switch.v.03'), Synset('change.v.05'), Synset('change.v.06'), Synset('exchange.v.01'), Synset('transfer.v.06'), Synset('deepen.v.04'), Synset('change.v.10'), Synset('changed.a.01'), Synset('changed.s.02'), Synset('changed.s.03')]\n",
            "[Synset('desire.n.01'), Synset('desire.n.02'), Synset('desire.n.03'), Synset('desire.v.01'), Synset('hope.v.01'), Synset('desire.v.03')]\n",
            "[Synset('learn.v.01'), Synset('learn.v.02'), Synset('memorize.v.01'), Synset('learn.v.04'), Synset('teach.v.01'), Synset('determine.v.08')]\n",
            "[Synset('mind.n.01'), Synset('mind.n.02'), Synset('judgment.n.01'), Synset('thinker.n.01'), Synset('mind.n.05'), Synset('mind.n.06'), Synset('mind.n.07'), Synset('mind.v.01'), Synset('mind.v.02'), Synset('take_care.v.02'), Synset('heed.v.01'), Synset('beware.v.01'), Synset('mind.v.06')]\n",
            "[Synset('honest.a.01'), Synset('honest.s.02'), Synset('dependable.s.02'), Synset('honest.s.04'), Synset('honest.s.05'), Synset('good.s.19'), Synset('honest.s.07')]\n",
            "[Synset('legal.a.01'), Synset('legal.a.02'), Synset('legal.s.03'), Synset('legal.a.04'), Synset('legal.s.05')]\n",
            "[Synset('love.n.01'), Synset('love.n.02'), Synset('beloved.n.01'), Synset('love.n.04'), Synset('love.n.05'), Synset('sexual_love.n.02'), Synset('love.v.01'), Synset('love.v.02'), Synset('love.v.03'), Synset('sleep_together.v.01')]\n",
            "[Synset('chair.n.01'), Synset('professorship.n.01'), Synset('president.n.04'), Synset('electric_chair.n.01'), Synset('chair.n.05'), Synset('chair.v.01'), Synset('moderate.v.01')]\n",
            "[Synset('old.n.01'), Synset('old.a.01'), Synset('old.a.02'), Synset('old.s.03'), Synset('old.s.04'), Synset('erstwhile.s.01'), Synset('honest-to-god.s.01'), Synset('old.s.07'), Synset('previous.s.01')]\n",
            "[Synset('know.n.01'), Synset('know.v.01'), Synset('know.v.02'), Synset('know.v.03'), Synset('know.v.04'), Synset('know.v.05'), Synset('acknowledge.v.06'), Synset('know.v.07'), Synset('sleep_together.v.01'), Synset('know.v.09'), Synset('know.v.10'), Synset('know.v.11')]\n",
            "[Synset('wish.n.01'), Synset('wish.n.02'), Synset('regard.n.03'), Synset('wish.n.04'), Synset('wish.v.01'), Synset('wish.v.02'), Synset('wish.v.03'), Synset('wish.v.04'), Synset('wish.v.05'), Synset('wish.v.06')]\n"
          ],
          "name": "stdout"
        }
      ]
    },
    {
      "cell_type": "code",
      "metadata": {
        "id": "vy5w5Kz3LiBY",
        "colab_type": "code",
        "outputId": "7294619a-bdf3-4527-c768-9a0b38833ad2",
        "colab": {
          "base_uri": "https://localhost:8080/",
          "height": 357
        }
      },
      "source": [
        "#Here i am selecting a particular index to print\n",
        "print(wn.synsets('broke')[7])\n",
        "print(wn.synsets('supplied')[3])\n",
        "print(wn.synsets('changed')[2])\n",
        "print(wn.synsets('desire')[1])\n",
        "print(wn.synsets('learn')[1])\n",
        "print(wn.synsets('mind')[1])\n",
        "print(wn.synsets('honest')[3])\n",
        "print(wn.synsets('legal')[2])\n",
        "print(wn.synsets('love')[1])\n",
        "print(wn.synsets('chair')[1])\n",
        "print(wn.synsets('old')[3])\n",
        "print(wn.synsets('know')[1])\n",
        "print(wn.synsets('wish')[3])\n",
        "print(wn.synsets('suitable')[1])\n",
        "print(wn.synsets('please')[1])\n",
        "print(wn.synsets('follow')[2])\n",
        "print(wn.synsets('sorry')[1])\n",
        "print(wn.synsets('watch')[1])\n",
        "print(wn.synsets('see')[3])\n",
        "print(wn.synsets('power')[1])"
      ],
      "execution_count": 127,
      "outputs": [
        {
          "output_type": "stream",
          "text": [
            "Synset('break.v.08')\n",
            "Synset('add.v.02')\n",
            "Synset('change.v.03')\n",
            "Synset('desire.n.02')\n",
            "Synset('learn.v.02')\n",
            "Synset('mind.n.02')\n",
            "Synset('honest.s.04')\n",
            "Synset('legal.s.03')\n",
            "Synset('love.n.02')\n",
            "Synset('professorship.n.01')\n",
            "Synset('old.s.03')\n",
            "Synset('know.v.01')\n",
            "Synset('wish.n.04')\n",
            "Synset('desirable.s.02')\n",
            "Synset('please.v.02')\n",
            "Synset('follow.v.03')\n",
            "Synset('deplorable.s.01')\n",
            "Synset('watch.n.02')\n",
            "Synset('witness.v.02')\n",
            "Synset('power.n.02')\n"
          ],
          "name": "stdout"
        }
      ]
    },
    {
      "cell_type": "code",
      "metadata": {
        "id": "dpgdgkCHMRqI",
        "colab_type": "code",
        "outputId": "cc520828-44bc-41b1-8a75-0641aae0bfc1",
        "colab": {
          "base_uri": "https://localhost:8080/",
          "height": 357
        }
      },
      "source": [
        "#Here we will get their respective definitions\n",
        "print(wn.synset('add.v.02').definition())\n",
        "print(wn.synset('change.v.03').definition())\n",
        "print(wn.synset('desire.n.02').definition())\n",
        "print(wn.synset('desire.n.02').definition())\n",
        "print(wn.synset('learn.v.02').definition())\n",
        "print(wn.synset('mind.n.02').definition())\n",
        "print(wn.synset('honest.s.04').definition())\n",
        "print(wn.synset('legal.s.03').definition())\n",
        "print(wn.synset('love.n.02').definition())\n",
        "print(wn.synset('professorship.n.01').definition())\n",
        "print(wn.synset('old.s.03').definition())\n",
        "print(wn.synset('know.v.01').definition())\n",
        "print(wn.synset('wish.n.04').definition())\n",
        "print(wn.synset('desirable.s.02').definition())\n",
        "print(wn.synset('please.v.02').definition())\n",
        "print(wn.synset('follow.v.03').definition())\n",
        "print(wn.synset('deplorable.s.01').definition())\n",
        "print(wn.synset('watch.n.02').definition())\n",
        "print(wn.synset('witness.v.02').definition())\n",
        "print(wn.synset('power.n.02').definition())"
      ],
      "execution_count": 0,
      "outputs": [
        {
          "output_type": "stream",
          "text": [
            "state or say further\n",
            "become different in some particular way, without permanently losing one's or its former characteristics or essence\n",
            "an inclination to want things\n",
            "an inclination to want things\n",
            "get to know or become aware of, usually accidentally\n",
            "recall or remembrance\n",
            "without pretensions\n",
            "having legal efficacy or force\n",
            "any object of warm affection or devotion; \n",
            "the position of professor\n",
            "(used for emphasis) very familiar\n",
            "be cognizant or aware of a fact or a specific piece of information; possess knowledge or information about\n",
            "the particular preference that you have\n",
            "worthy of being chosen especially as a spouse\n",
            "be the will of or have the will (to)\n",
            "come as a logical consequence; follow logically\n",
            "bad; unfortunate\n",
            "a period of time (4 or 2 hours) during which some of a ship's crew are on duty\n",
            "perceive or be contemporaneous with\n",
            "(physics) the rate of doing work; measured in watts (= joules/second)\n"
          ],
          "name": "stdout"
        }
      ]
    },
    {
      "cell_type": "markdown",
      "metadata": {
        "id": "YSm2dr-xuiJy",
        "colab_type": "text"
      },
      "source": [
        "#Heap's law"
      ]
    },
    {
      "cell_type": "code",
      "metadata": {
        "id": "cj3ZEXBRuskQ",
        "colab_type": "code",
        "outputId": "dcd5a1a5-85e5-414f-84c0-761c39fb537f",
        "colab": {
          "base_uri": "https://localhost:8080/",
          "height": 283
        }
      },
      "source": [
        "vocabulary = []\n",
        "v_count = [0]\n",
        "for i in token:\n",
        "  if i in vocabulary:\n",
        "    v_count.append(v_count[-1])\n",
        "  else:\n",
        "    vocabulary.append(i)\n",
        "    v_count.append(v_count[-1] + 1)\n",
        "plt.xlabel('corpus')\n",
        "plt.ylabel('vocabulary')\n",
        "plt.plot([i for i in range(1, len(token) + 1)], v_count[1:])\n",
        "plt.show()"
      ],
      "execution_count": 128,
      "outputs": [
        {
          "output_type": "display_data",
          "data": {
            "image/png": "[encoded data removed]",
            "text/plain": [
              "<Figure size 432x288 with 1 Axes>"
            ]
          },
          "metadata": {
            "tags": []
          }
        }
      ]
    }
  ]
}